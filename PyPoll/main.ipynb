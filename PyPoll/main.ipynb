{
 "cells": [
  {
   "cell_type": "code",
   "execution_count": 1,
   "metadata": {},
   "outputs": [],
   "source": [
    "import os\n",
    "import csv"
   ]
  },
  {
   "cell_type": "code",
   "execution_count": 2,
   "metadata": {},
   "outputs": [],
   "source": [
    "election_csv = os.path.join('Resources', 'election_data.csv')"
   ]
  },
  {
   "cell_type": "code",
   "execution_count": 5,
   "metadata": {},
   "outputs": [
    {
     "name": "stdout",
     "output_type": "stream",
     "text": [
      "Election Results\n",
      "----------------------------\n",
      "Total Votes: 3521001\n",
      "----------------------------\n",
      "Khan:     63.0%   (2218231)\n",
      "Correy:   20.0%   (704200)\n",
      "Li:       14.0%   (492940)\n",
      "O'Tooley: 3.0%    (105630)\n",
      "----------------------------\n",
      "Winner: Khan\n"
     ]
    }
   ],
   "source": [
    "with open(election_csv) as csvfile:\n",
    "    csvreader = csv.reader(csvfile, delimiter=\",\")\n",
    "    \n",
    "    csvheader = next(csvfile)\n",
    "    \n",
    "    i =0\n",
    "    khan = 0\n",
    "    correy = 0\n",
    "    li = 0\n",
    "    tooley = 0\n",
    "    for row in csvreader:\n",
    "        #total votes cast\n",
    "        i = i + 1\n",
    "        totalvotes = i\n",
    "       \n",
    "        #candidates and votes received\n",
    "    \n",
    "        if row[2] == \"Khan\":\n",
    "            khan = khan + 1\n",
    "            khanvotes = khan\n",
    "            perkhan = round((100 * khanvotes/totalvotes),2)\n",
    "        elif row[2] == \"Correy\":\n",
    "            correy = correy + 1\n",
    "            correyvotes = correy\n",
    "            percor = round((100 * correyvotes/totalvotes),2)\n",
    "        elif row[2] == \"Li\":\n",
    "            li = li + 1\n",
    "            livotes = li\n",
    "            perli = round((100 * livotes/totalvotes),2)\n",
    "        elif row[2] == \"O'Tooley\":\n",
    "            tooley = tooley + 1\n",
    "            toolvotes = tooley\n",
    "            pertool = round((100 * toolvotes/totalvotes),2)\n",
    "\n",
    "# winner\n",
    "\n",
    "print(\"Election Results\")\n",
    "print(\"----------------------------\")\n",
    "print(f\"Total Votes: {totalvotes}\")\n",
    "print(\"----------------------------\")\n",
    "print(f\"Khan:     {perkhan}%   ({khanvotes})\")\n",
    "print(f\"Correy:   {percor}%   ({correyvotes})\")\n",
    "print(f\"Li:       {perli}%   ({livotes})\")\n",
    "print(f\"O'Tooley: {pertool}%    ({toolvotes})\")\n",
    "print(\"----------------------------\")\n",
    "if khanvotes > correyvotes and livotes and toolvotes:\n",
    "    print(\"Winner: Khan\")\n",
    "elif correyvotes > khanvotes and livotes and toolvotes:\n",
    "    print(\"Winner: Correy\")\n",
    "elif livotes > correyvotes and khanvotes and toolvotes:\n",
    "     print(\"Winner: Li\")\n",
    "elif toolvotes > correyvotes and livotes and khanvotes:\n",
    "     print(\"Winner: O'Tooley\")\n",
    "\n"
   ]
  },
  {
   "cell_type": "code",
   "execution_count": 6,
   "metadata": {},
   "outputs": [],
   "source": [
    "output_path = os.path.join(\"Analysis\", \"election_results.txt\")\n",
    "\n",
    "output = (\n",
    "f\"Election Results\\n\"\n",
    "f\"----------------------------\\n\"\n",
    "f\"Total Votes: {totalvotes}\\n\"\n",
    "f\"Khan:     {perkhan}%   ({khanvotes})\\n\"\n",
    "f\"Correy:   {percor}%   ({correyvotes})\\n\"\n",
    "f\"Li:       {perli}%   ({livotes})\\n\"\n",
    "f\"O'Tooley: {pertool}%    ({toolvotes})\\n\"\n",
    "f\"----------------------------\\n\"\n",
    "f\"Winner: Khan\")\n",
    "\n",
    "with open(output_path, 'w')as textfile:\n",
    "\n",
    "    # Initialize csv.writer\n",
    "   \n",
    "    #file1 = open(election_results.txt, \"w\")\n",
    "\n",
    "    textfile.write(output)\n"
   ]
  },
  {
   "cell_type": "code",
   "execution_count": null,
   "metadata": {},
   "outputs": [],
   "source": []
  }
 ],
 "metadata": {
  "kernelspec": {
   "display_name": "Python 3",
   "language": "python",
   "name": "python3"
  },
  "language_info": {
   "codemirror_mode": {
    "name": "ipython",
    "version": 3
   },
   "file_extension": ".py",
   "mimetype": "text/x-python",
   "name": "python",
   "nbconvert_exporter": "python",
   "pygments_lexer": "ipython3",
   "version": "3.8.5"
  }
 },
 "nbformat": 4,
 "nbformat_minor": 4
}
