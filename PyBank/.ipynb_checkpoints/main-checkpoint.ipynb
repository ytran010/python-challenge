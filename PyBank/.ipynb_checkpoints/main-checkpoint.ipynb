{
 "cells": [
  {
   "cell_type": "code",
   "execution_count": 1,
   "metadata": {},
   "outputs": [],
   "source": [
    "import os\n",
    "import csv"
   ]
  },
  {
   "cell_type": "code",
   "execution_count": 2,
   "metadata": {},
   "outputs": [],
   "source": [
    "budget_csv = os.path.join('Resources', 'budget_data.csv') "
   ]
  },
  {
   "cell_type": "code",
   "execution_count": 5,
   "metadata": {},
   "outputs": [
    {
     "name": "stdout",
     "output_type": "stream",
     "text": [
      "Feb-2010\n",
      "May-2010\n",
      "Jul-2010\n",
      "Oct-2010\n",
      "Jan-2011\n",
      "Mar-2011\n",
      "Feb-2012\n",
      "Financial Analysis\n",
      "----------------------------\n",
      "Total Months: 86\n",
      "Total: $38382578\n",
      "Average Change: $-2315.12\n",
      "Greatest Increase in Profits: Feb-2012 $1926159\n",
      "Greatest Decrease in Profits: Sep-2013 $-2196167\n"
     ]
    }
   ],
   "source": [
    "with open(budget_csv) as csvfile:\n",
    "    csvreader = csv.reader(csvfile, delimiter=\",\")\n",
    "    \n",
    "    csvheader = next(csvfile)\n",
    "    firstrow = next(csvreader)\n",
    "    \n",
    "    months = 1\n",
    "    totalprofloss = int(firstrow[1])\n",
    "    totalchange = 0\n",
    "    prevprofloss = int(firstrow[1])\n",
    "\n",
    "    #maxchange = []\n",
    "    maxchange = 0\n",
    "    minchange = 0\n",
    "    #minchange = []\n",
    "    \n",
    "    for column in csvreader:\n",
    "        #total months\n",
    "        months = months + 1 \n",
    "        #column[months]\n",
    "        #net total of profits/losses\n",
    "        totalprofloss += int(column[1])\n",
    "        #changes in profits/losses\n",
    "        profloss = int(column[1])\n",
    "        proflosstime = column[0]\n",
    "        change = profloss - prevprofloss\n",
    "        # print(profloss, prevprofloss, change)\n",
    "        prevprofloss = profloss\n",
    "        totalchange += change\n",
    "        \n",
    "        if change > maxchange:\n",
    "            maxchange = change\n",
    "            print(column[0])\n",
    "            maxmonth = column[0]\n",
    "    \n",
    "            \n",
    "        if change < minchange:\n",
    "            minchange = change\n",
    "            minmonth = column[0]\n",
    "\n",
    "            \n",
    "avgchange = round((totalchange/(months - 1)),2)\n",
    "#maxchange = max(maxchange)\n",
    "#minchange = min(minchange)\n",
    "\n",
    "print(\"Financial Analysis\")\n",
    "print(\"----------------------------\")\n",
    "print(f\"Total Months: {months}\")\n",
    "print(f\"Total: ${totalprofloss}\")\n",
    "print(f\"Average Change: ${avgchange}\")\n",
    "print(f\"Greatest Increase in Profits: {maxmonth} ${maxchange}\")\n",
    "print(f\"Greatest Decrease in Profits: {minmonth} ${minchange}\")\n",
    "\n",
    "output_path = os.path.join(\"Analysis\", \"financial_analysis.txt\")\n",
    "\n",
    "output = (\n",
    "f\"Financial Analysis\\n\"\n",
    "f\"----------------------------\\n\"\n",
    "f\"Total Months: {months}\\n\"\n",
    "f\"Total: ${totalprofloss}\\n\"\n",
    "f\"Average Change: ${avgchange}\\n\"\n",
    "f\"Greatest Increase in Profits: ${maxchange}\\n\"\n",
    "f\"Greatest Decrease in Profits: ${minchange}\\n\")\n",
    "\n",
    "with open(output_path, 'w')as textfile:\n",
    "\n",
    "    # Initialize csv.writer\n",
    "   \n",
    "    #file1 = open(financial_analysis.txt, \"w\")\n",
    "\n",
    "    textfile.write(output)\n"
   ]
  },
  {
   "cell_type": "code",
   "execution_count": null,
   "metadata": {},
   "outputs": [],
   "source": []
  },
  {
   "cell_type": "code",
   "execution_count": null,
   "metadata": {},
   "outputs": [],
   "source": []
  }
 ],
 "metadata": {
  "kernelspec": {
   "display_name": "Python 3",
   "language": "python",
   "name": "python3"
  },
  "language_info": {
   "codemirror_mode": {
    "name": "ipython",
    "version": 3
   },
   "file_extension": ".py",
   "mimetype": "text/x-python",
   "name": "python",
   "nbconvert_exporter": "python",
   "pygments_lexer": "ipython3",
   "version": "3.8.5"
  }
 },
 "nbformat": 4,
 "nbformat_minor": 4
}
