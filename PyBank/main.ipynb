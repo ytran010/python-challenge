{
 "cells": [
  {
   "cell_type": "code",
   "execution_count": 1,
   "metadata": {},
   "outputs": [],
   "source": [
    "import os\n",
    "import csv"
   ]
  },
  {
   "cell_type": "code",
   "execution_count": 2,
   "metadata": {},
   "outputs": [],
   "source": [
    "budget_csv = os.path.join('Resources', 'budget_data.csv') "
   ]
  },
  {
   "cell_type": "code",
   "execution_count": 3,
   "metadata": {},
   "outputs": [
    {
     "name": "stdout",
     "output_type": "stream",
     "text": [
      "Financial Analysis\n",
      "----------------------------\n",
      "Total Months: 86\n",
      "Total: $38382578\n",
      "Average Change: $-2315.12\n",
      "Greatest Increase in Profits: ['Aug-2016', '569899'] $1926159\n",
      "Greatest Decrease in Profits: ['Feb-2017', '671099'] $-2196167\n"
     ]
    }
   ],
   "source": [
    "with open(budget_csv) as csvfile:\n",
    "    csvreader = csv.reader(csvfile, delimiter=\",\")\n",
    "    \n",
    "    csvheader = next(csvfile)\n",
    "    firstrow = next(csvreader)\n",
    "    \n",
    "    months = 1\n",
    "    totalprofloss = int(firstrow[1])\n",
    "    totalchange = 0\n",
    "    prevprofloss = int(firstrow[1])\n",
    "\n",
    "    maxchange = []\n",
    "    minchange = []\n",
    "    \n",
    "    for row in csvreader:\n",
    "        #total months\n",
    "        months = months + 1 \n",
    "        \n",
    "        #net total of profits/losses\n",
    "        totalprofloss += int(row[1])\n",
    "        #changes in profits/losses\n",
    "        profloss = int(row[1])\n",
    "        change = profloss - prevprofloss\n",
    "        # print(profloss, prevprofloss, change)\n",
    "        prevprofloss = profloss\n",
    "        totalchange += change\n",
    "        \n",
    "        if change >= int(row[1]):\n",
    "            maxchange.append(change)\n",
    "            maxmonth = row\n",
    "            \n",
    "        if change < int(row[1]):\n",
    "            minchange.append(change)\n",
    "            minmonth = row\n",
    "\n",
    "            \n",
    "avgchange = round((totalchange/(months - 1)),2)\n",
    "maxchange = max(maxchange)\n",
    "minchange = min(minchange)\n",
    "\n",
    "print(\"Financial Analysis\")\n",
    "print(\"----------------------------\")\n",
    "print(f\"Total Months: {months}\")\n",
    "print(f\"Total: ${totalprofloss}\")\n",
    "print(f\"Average Change: ${avgchange}\")\n",
    "print(f\"Greatest Increase in Profits: {maxmonth} ${maxchange}\")\n",
    "print(f\"Greatest Decrease in Profits: {minmonth} ${minchange}\")\n",
    "\n",
    "output_path = os.path.join(\"Analysis\", \"financial_analysis.txt\")\n",
    "\n",
    "output = (\n",
    "f\"Financial Analysis\\n\"\n",
    "f\"----------------------------\\n\"\n",
    "f\"Total Months: {months}\\n\"\n",
    "f\"Total: ${totalprofloss}\\n\"\n",
    "f\"Average Change: ${avgchange}\\n\"\n",
    "f\"Greatest Increase in Profits: ${maxchange}\\n\"\n",
    "f\"Greatest Decrease in Profits: ${minchange}\\n\")\n",
    "\n",
    "with open(output_path, 'w')as textfile:\n",
    "\n",
    "    # Initialize csv.writer\n",
    "   \n",
    "    #file1 = open(financial_analysis.txt, \"w\")\n",
    "\n",
    "    textfile.write(output)\n"
   ]
  },
  {
   "cell_type": "code",
   "execution_count": 6,
   "metadata": {},
   "outputs": [
    {
     "ename": "AttributeError",
     "evalue": "'_csv.reader' object has no attribute 'index'",
     "output_type": "error",
     "traceback": [
      "\u001b[0;31m---------------------------------------------------------------------------\u001b[0m",
      "\u001b[0;31mAttributeError\u001b[0m                            Traceback (most recent call last)",
      "\u001b[0;32m<ipython-input-6-f574e4acb71f>\u001b[0m in \u001b[0;36m<module>\u001b[0;34m\u001b[0m\n\u001b[0;32m----> 1\u001b[0;31m \u001b[0mcsvreader\u001b[0m\u001b[0;34m.\u001b[0m\u001b[0mindex\u001b[0m\u001b[0;34m\u001b[0m\u001b[0;34m\u001b[0m\u001b[0m\n\u001b[0m",
      "\u001b[0;31mAttributeError\u001b[0m: '_csv.reader' object has no attribute 'index'"
     ]
    }
   ],
   "source": []
  },
  {
   "cell_type": "code",
   "execution_count": null,
   "metadata": {},
   "outputs": [],
   "source": []
  }
 ],
 "metadata": {
  "kernelspec": {
   "display_name": "Python 3",
   "language": "python",
   "name": "python3"
  },
  "language_info": {
   "codemirror_mode": {
    "name": "ipython",
    "version": 3
   },
   "file_extension": ".py",
   "mimetype": "text/x-python",
   "name": "python",
   "nbconvert_exporter": "python",
   "pygments_lexer": "ipython3",
   "version": "3.8.5"
  }
 },
 "nbformat": 4,
 "nbformat_minor": 4
}
